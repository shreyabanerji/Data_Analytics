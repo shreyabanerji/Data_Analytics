{
 "cells": [
  {
   "cell_type": "code",
   "execution_count": 160,
   "metadata": {},
   "outputs": [],
   "source": [
    "from keras import layers, models, optimizers,utils\n",
    "import pandas as pd\n",
    "import numpy as np\n",
    "import matplotlib as plt\n",
    "from sklearn.decomposition import PCA\n",
    "from sklearn.model_selection import train_test_split\n",
    "from tqdm import tqdm\n",
    "from keras.preprocessing import image\n",
    "from sklearn.preprocessing import StandardScaler,MultiLabelBinarizer,OneHotEncoder,LabelEncoder\n",
    "import keras\n",
    "from sklearn.neighbors import KNeighborsClassifier\n",
    "from sklearn.neural_network import MLPClassifier\n",
    "from sklearn.metrics import classification_report, confusion_matrix"
   ]
  },
  {
   "cell_type": "code",
   "execution_count": 83,
   "metadata": {},
   "outputs": [
    {
     "name": "stderr",
     "output_type": "stream",
     "text": [
      "b'Skipping line 6044: expected 10 fields, saw 11\\nSkipping line 6569: expected 10 fields, saw 11\\nSkipping line 7399: expected 10 fields, saw 11\\nSkipping line 7939: expected 10 fields, saw 11\\nSkipping line 9026: expected 10 fields, saw 11\\nSkipping line 10264: expected 10 fields, saw 11\\nSkipping line 10427: expected 10 fields, saw 11\\nSkipping line 10905: expected 10 fields, saw 11\\nSkipping line 11373: expected 10 fields, saw 11\\nSkipping line 11945: expected 10 fields, saw 11\\nSkipping line 14112: expected 10 fields, saw 11\\nSkipping line 14532: expected 10 fields, saw 11\\nSkipping line 15076: expected 10 fields, saw 12\\nSkipping line 29906: expected 10 fields, saw 11\\nSkipping line 31625: expected 10 fields, saw 11\\nSkipping line 33020: expected 10 fields, saw 11\\nSkipping line 35748: expected 10 fields, saw 11\\nSkipping line 35962: expected 10 fields, saw 11\\nSkipping line 37770: expected 10 fields, saw 11\\nSkipping line 38105: expected 10 fields, saw 11\\nSkipping line 38275: expected 10 fields, saw 11\\nSkipping line 38404: expected 10 fields, saw 12\\n'\n"
     ]
    },
    {
     "data": {
      "text/html": [
       "<div>\n",
       "<style scoped>\n",
       "    .dataframe tbody tr th:only-of-type {\n",
       "        vertical-align: middle;\n",
       "    }\n",
       "\n",
       "    .dataframe tbody tr th {\n",
       "        vertical-align: top;\n",
       "    }\n",
       "\n",
       "    .dataframe thead th {\n",
       "        text-align: right;\n",
       "    }\n",
       "</style>\n",
       "<table border=\"1\" class=\"dataframe\">\n",
       "  <thead>\n",
       "    <tr style=\"text-align: right;\">\n",
       "      <th></th>\n",
       "      <th>id</th>\n",
       "      <th>gender</th>\n",
       "      <th>masterCategory</th>\n",
       "      <th>subCategory</th>\n",
       "      <th>articleType</th>\n",
       "      <th>baseColour</th>\n",
       "      <th>season</th>\n",
       "      <th>year</th>\n",
       "      <th>usage</th>\n",
       "      <th>productDisplayName</th>\n",
       "      <th>image</th>\n",
       "    </tr>\n",
       "  </thead>\n",
       "  <tbody>\n",
       "    <tr>\n",
       "      <td>0</td>\n",
       "      <td>15970</td>\n",
       "      <td>Men</td>\n",
       "      <td>Apparel</td>\n",
       "      <td>Topwear</td>\n",
       "      <td>Shirts</td>\n",
       "      <td>Navy Blue</td>\n",
       "      <td>Fall</td>\n",
       "      <td>2011.0</td>\n",
       "      <td>Casual</td>\n",
       "      <td>Turtle Check Men Navy Blue Shirt</td>\n",
       "      <td>15970.jpg</td>\n",
       "    </tr>\n",
       "    <tr>\n",
       "      <td>1</td>\n",
       "      <td>39386</td>\n",
       "      <td>Men</td>\n",
       "      <td>Apparel</td>\n",
       "      <td>Bottomwear</td>\n",
       "      <td>Jeans</td>\n",
       "      <td>Blue</td>\n",
       "      <td>Summer</td>\n",
       "      <td>2012.0</td>\n",
       "      <td>Casual</td>\n",
       "      <td>Peter England Men Party Blue Jeans</td>\n",
       "      <td>39386.jpg</td>\n",
       "    </tr>\n",
       "    <tr>\n",
       "      <td>2</td>\n",
       "      <td>59263</td>\n",
       "      <td>Women</td>\n",
       "      <td>Accessories</td>\n",
       "      <td>Watches</td>\n",
       "      <td>Watches</td>\n",
       "      <td>Silver</td>\n",
       "      <td>Winter</td>\n",
       "      <td>2016.0</td>\n",
       "      <td>Casual</td>\n",
       "      <td>Titan Women Silver Watch</td>\n",
       "      <td>59263.jpg</td>\n",
       "    </tr>\n",
       "    <tr>\n",
       "      <td>3</td>\n",
       "      <td>21379</td>\n",
       "      <td>Men</td>\n",
       "      <td>Apparel</td>\n",
       "      <td>Bottomwear</td>\n",
       "      <td>Track Pants</td>\n",
       "      <td>Black</td>\n",
       "      <td>Fall</td>\n",
       "      <td>2011.0</td>\n",
       "      <td>Casual</td>\n",
       "      <td>Manchester United Men Solid Black Track Pants</td>\n",
       "      <td>21379.jpg</td>\n",
       "    </tr>\n",
       "    <tr>\n",
       "      <td>4</td>\n",
       "      <td>53759</td>\n",
       "      <td>Men</td>\n",
       "      <td>Apparel</td>\n",
       "      <td>Topwear</td>\n",
       "      <td>Tshirts</td>\n",
       "      <td>Grey</td>\n",
       "      <td>Summer</td>\n",
       "      <td>2012.0</td>\n",
       "      <td>Casual</td>\n",
       "      <td>Puma Men Grey T-shirt</td>\n",
       "      <td>53759.jpg</td>\n",
       "    </tr>\n",
       "    <tr>\n",
       "      <td>5</td>\n",
       "      <td>1855</td>\n",
       "      <td>Men</td>\n",
       "      <td>Apparel</td>\n",
       "      <td>Topwear</td>\n",
       "      <td>Tshirts</td>\n",
       "      <td>Grey</td>\n",
       "      <td>Summer</td>\n",
       "      <td>2011.0</td>\n",
       "      <td>Casual</td>\n",
       "      <td>Inkfruit Mens Chain Reaction T-shirt</td>\n",
       "      <td>1855.jpg</td>\n",
       "    </tr>\n",
       "    <tr>\n",
       "      <td>6</td>\n",
       "      <td>30805</td>\n",
       "      <td>Men</td>\n",
       "      <td>Apparel</td>\n",
       "      <td>Topwear</td>\n",
       "      <td>Shirts</td>\n",
       "      <td>Green</td>\n",
       "      <td>Summer</td>\n",
       "      <td>2012.0</td>\n",
       "      <td>Ethnic</td>\n",
       "      <td>Fabindia Men Striped Green Shirt</td>\n",
       "      <td>30805.jpg</td>\n",
       "    </tr>\n",
       "    <tr>\n",
       "      <td>7</td>\n",
       "      <td>26960</td>\n",
       "      <td>Women</td>\n",
       "      <td>Apparel</td>\n",
       "      <td>Topwear</td>\n",
       "      <td>Shirts</td>\n",
       "      <td>Purple</td>\n",
       "      <td>Summer</td>\n",
       "      <td>2012.0</td>\n",
       "      <td>Casual</td>\n",
       "      <td>Jealous 21 Women Purple Shirt</td>\n",
       "      <td>26960.jpg</td>\n",
       "    </tr>\n",
       "    <tr>\n",
       "      <td>8</td>\n",
       "      <td>29114</td>\n",
       "      <td>Men</td>\n",
       "      <td>Accessories</td>\n",
       "      <td>Socks</td>\n",
       "      <td>Socks</td>\n",
       "      <td>Navy Blue</td>\n",
       "      <td>Summer</td>\n",
       "      <td>2012.0</td>\n",
       "      <td>Casual</td>\n",
       "      <td>Puma Men Pack of 3 Socks</td>\n",
       "      <td>29114.jpg</td>\n",
       "    </tr>\n",
       "    <tr>\n",
       "      <td>9</td>\n",
       "      <td>30039</td>\n",
       "      <td>Men</td>\n",
       "      <td>Accessories</td>\n",
       "      <td>Watches</td>\n",
       "      <td>Watches</td>\n",
       "      <td>Black</td>\n",
       "      <td>Winter</td>\n",
       "      <td>2016.0</td>\n",
       "      <td>Casual</td>\n",
       "      <td>Skagen Men Black Watch</td>\n",
       "      <td>30039.jpg</td>\n",
       "    </tr>\n",
       "  </tbody>\n",
       "</table>\n",
       "</div>"
      ],
      "text/plain": [
       "      id gender masterCategory subCategory  articleType baseColour  season  \\\n",
       "0  15970    Men        Apparel     Topwear       Shirts  Navy Blue    Fall   \n",
       "1  39386    Men        Apparel  Bottomwear        Jeans       Blue  Summer   \n",
       "2  59263  Women    Accessories     Watches      Watches     Silver  Winter   \n",
       "3  21379    Men        Apparel  Bottomwear  Track Pants      Black    Fall   \n",
       "4  53759    Men        Apparel     Topwear      Tshirts       Grey  Summer   \n",
       "5   1855    Men        Apparel     Topwear      Tshirts       Grey  Summer   \n",
       "6  30805    Men        Apparel     Topwear       Shirts      Green  Summer   \n",
       "7  26960  Women        Apparel     Topwear       Shirts     Purple  Summer   \n",
       "8  29114    Men    Accessories       Socks        Socks  Navy Blue  Summer   \n",
       "9  30039    Men    Accessories     Watches      Watches      Black  Winter   \n",
       "\n",
       "     year   usage                             productDisplayName      image  \n",
       "0  2011.0  Casual               Turtle Check Men Navy Blue Shirt  15970.jpg  \n",
       "1  2012.0  Casual             Peter England Men Party Blue Jeans  39386.jpg  \n",
       "2  2016.0  Casual                       Titan Women Silver Watch  59263.jpg  \n",
       "3  2011.0  Casual  Manchester United Men Solid Black Track Pants  21379.jpg  \n",
       "4  2012.0  Casual                          Puma Men Grey T-shirt  53759.jpg  \n",
       "5  2011.0  Casual           Inkfruit Mens Chain Reaction T-shirt   1855.jpg  \n",
       "6  2012.0  Ethnic               Fabindia Men Striped Green Shirt  30805.jpg  \n",
       "7  2012.0  Casual                  Jealous 21 Women Purple Shirt  26960.jpg  \n",
       "8  2012.0  Casual                       Puma Men Pack of 3 Socks  29114.jpg  \n",
       "9  2016.0  Casual                         Skagen Men Black Watch  30039.jpg  "
      ]
     },
     "execution_count": 83,
     "metadata": {},
     "output_type": "execute_result"
    }
   ],
   "source": [
    "train = pd.read_csv('styles.csv', error_bad_lines=False)    # reading the csv file\n",
    "#train.head()\n",
    "train['image'] = train.apply(lambda row: str(row['id']) + \".jpg\", axis=1)\n",
    "#train = train.sample(frac=1).reset_index(drop=True)\n",
    "#train=df[df['id']!=39403]\n",
    "train.head(10)\n",
    "#train=train[train['id']!=39403]\n",
    "#train['id']"
   ]
  },
  {
   "cell_type": "code",
   "execution_count": 116,
   "metadata": {},
   "outputs": [
    {
     "name": "stderr",
     "output_type": "stream",
     "text": [
      "100%|██████████| 44424/44424 [02:14<00:00, 330.62it/s]\n"
     ]
    }
   ],
   "source": [
    "train_image = []\n",
    "y=[]\n",
    "for i in tqdm(range(train.shape[0])):\n",
    "    try:\n",
    "        img = image.load_img('images/'+str(train['image'][i]),target_size=(80,60))\n",
    "        img = image.img_to_array(img)\n",
    "        img = img/255\n",
    "        train_image.append(img)\n",
    "        y.append(train['masterCategory'][i])\n",
    "    except:\n",
    "        continue\n",
    "        \n",
    "X = np.array(train_image)"
   ]
  },
  {
   "cell_type": "code",
   "execution_count": null,
   "metadata": {},
   "outputs": [],
   "source": []
  },
  {
   "cell_type": "code",
   "execution_count": 127,
   "metadata": {},
   "outputs": [
    {
     "data": {
      "text/plain": [
       "(44419, 7)"
      ]
     },
     "execution_count": 127,
     "metadata": {},
     "output_type": "execute_result"
    }
   ],
   "source": [
    "cat=LabelEncoder()\n",
    "Y=np.array(y)\n",
    "new = cat.fit_transform(Y)\n",
    "y_f=keras.utils.to_categorical(new,num_classes=len(np.unique(y)))\n",
    "y_f.shape"
   ]
  },
  {
   "cell_type": "code",
   "execution_count": 117,
   "metadata": {},
   "outputs": [
    {
     "data": {
      "text/plain": [
       "(44419, 80, 60, 3)"
      ]
     },
     "execution_count": 117,
     "metadata": {},
     "output_type": "execute_result"
    }
   ],
   "source": [
    "X.shape"
   ]
  },
  {
   "cell_type": "code",
   "execution_count": 130,
   "metadata": {},
   "outputs": [],
   "source": [
    "x_train, x_test, y_train, y_test = train_test_split(X, y_f, random_state=42, test_size=0.1)"
   ]
  },
  {
   "cell_type": "code",
   "execution_count": 132,
   "metadata": {},
   "outputs": [
    {
     "name": "stdout",
     "output_type": "stream",
     "text": [
      "Train on 39977 samples, validate on 4442 samples\n",
      "Epoch 1/10\n",
      "39977/39977 [==============================] - 75s 2ms/step - loss: 0.5461 - accuracy: 0.7946 - val_loss: 0.2594 - val_accuracy: 0.9109\n",
      "Epoch 2/10\n",
      "39977/39977 [==============================] - 57s 1ms/step - loss: 0.2210 - accuracy: 0.9280 - val_loss: 0.1665 - val_accuracy: 0.9552\n",
      "Epoch 3/10\n",
      "39977/39977 [==============================] - 55s 1ms/step - loss: 0.1573 - accuracy: 0.9518 - val_loss: 0.1514 - val_accuracy: 0.9527\n",
      "Epoch 4/10\n",
      "39977/39977 [==============================] - 51s 1ms/step - loss: 0.1227 - accuracy: 0.9633 - val_loss: 0.1592 - val_accuracy: 0.9532\n",
      "Epoch 5/10\n",
      "39977/39977 [==============================] - 53s 1ms/step - loss: 0.1002 - accuracy: 0.9702 - val_loss: 0.1605 - val_accuracy: 0.9514\n",
      "Epoch 6/10\n",
      "39977/39977 [==============================] - 54s 1ms/step - loss: 0.0847 - accuracy: 0.9750 - val_loss: 0.0917 - val_accuracy: 0.9761\n",
      "Epoch 7/10\n",
      "39977/39977 [==============================] - 56s 1ms/step - loss: 0.0716 - accuracy: 0.9787 - val_loss: 0.0894 - val_accuracy: 0.9773\n",
      "Epoch 8/10\n",
      "39977/39977 [==============================] - 56s 1ms/step - loss: 0.0601 - accuracy: 0.9826 - val_loss: 0.1092 - val_accuracy: 0.9683\n",
      "Epoch 9/10\n",
      "39977/39977 [==============================] - 53s 1ms/step - loss: 0.0543 - accuracy: 0.9848 - val_loss: 0.0792 - val_accuracy: 0.9773\n",
      "Epoch 10/10\n",
      "39977/39977 [==============================] - 59s 1ms/step - loss: 0.0442 - accuracy: 0.9875 - val_loss: 0.0922 - val_accuracy: 0.9788\n"
     ]
    },
    {
     "data": {
      "text/plain": [
       "<keras.callbacks.callbacks.History at 0x1acaa012e8>"
      ]
     },
     "execution_count": 132,
     "metadata": {},
     "output_type": "execute_result"
    }
   ],
   "source": [
    "model=models.Sequential()\n",
    "model.add(layers.Conv2D(32, (5, 5), strides=(2, 2), activation='relu', input_shape=(80, 60,3))) \n",
    "#input image dimension: 80x 60\n",
    "model.add(layers.MaxPooling2D((2, 2)))\n",
    "model.add(layers.Conv2D(64, (3, 3), activation='relu')) \n",
    "model.add(layers.MaxPooling2D((2, 2)))\n",
    "model.add(layers.Conv2D(64, (3, 3), activation='relu'))\n",
    "model.add(layers.MaxPooling2D((2, 2)))\n",
    "model.add(layers.Flatten())\n",
    "model.add(layers.Dense(128, activation='relu'))\n",
    "model.add(layers.Dense(7, activation='softmax'))\n",
    "model.compile(optimizer='rmsprop', loss='categorical_crossentropy', metrics=['accuracy'])\n",
    "model.fit(x_train, y_train, epochs=10, batch_size=256, verbose=1, validation_data=(x_test, y_test))"
   ]
  },
  {
   "cell_type": "code",
   "execution_count": 175,
   "metadata": {},
   "outputs": [
    {
     "data": {
      "text/html": [
       "<div>\n",
       "<style scoped>\n",
       "    .dataframe tbody tr th:only-of-type {\n",
       "        vertical-align: middle;\n",
       "    }\n",
       "\n",
       "    .dataframe tbody tr th {\n",
       "        vertical-align: top;\n",
       "    }\n",
       "\n",
       "    .dataframe thead th {\n",
       "        text-align: right;\n",
       "    }\n",
       "</style>\n",
       "<table border=\"1\" class=\"dataframe\">\n",
       "  <thead>\n",
       "    <tr style=\"text-align: right;\">\n",
       "      <th></th>\n",
       "      <th>p1</th>\n",
       "      <th>p2</th>\n",
       "    </tr>\n",
       "  </thead>\n",
       "  <tbody>\n",
       "    <tr>\n",
       "      <td>0</td>\n",
       "      <td>-8.209121</td>\n",
       "      <td>1.191466</td>\n",
       "    </tr>\n",
       "    <tr>\n",
       "      <td>1</td>\n",
       "      <td>-8.157545</td>\n",
       "      <td>1.263907</td>\n",
       "    </tr>\n",
       "    <tr>\n",
       "      <td>2</td>\n",
       "      <td>-7.801053</td>\n",
       "      <td>1.045209</td>\n",
       "    </tr>\n",
       "    <tr>\n",
       "      <td>3</td>\n",
       "      <td>-4.536742</td>\n",
       "      <td>-1.083573</td>\n",
       "    </tr>\n",
       "    <tr>\n",
       "      <td>4</td>\n",
       "      <td>-2.677393</td>\n",
       "      <td>-2.204710</td>\n",
       "    </tr>\n",
       "    <tr>\n",
       "      <td>...</td>\n",
       "      <td>...</td>\n",
       "      <td>...</td>\n",
       "    </tr>\n",
       "    <tr>\n",
       "      <td>3553515</td>\n",
       "      <td>-7.194545</td>\n",
       "      <td>0.674105</td>\n",
       "    </tr>\n",
       "    <tr>\n",
       "      <td>3553516</td>\n",
       "      <td>-8.369659</td>\n",
       "      <td>1.406269</td>\n",
       "    </tr>\n",
       "    <tr>\n",
       "      <td>3553517</td>\n",
       "      <td>-8.282999</td>\n",
       "      <td>1.354072</td>\n",
       "    </tr>\n",
       "    <tr>\n",
       "      <td>3553518</td>\n",
       "      <td>-8.363089</td>\n",
       "      <td>1.402528</td>\n",
       "    </tr>\n",
       "    <tr>\n",
       "      <td>3553519</td>\n",
       "      <td>-8.363641</td>\n",
       "      <td>1.400249</td>\n",
       "    </tr>\n",
       "  </tbody>\n",
       "</table>\n",
       "<p>3553520 rows × 2 columns</p>\n",
       "</div>"
      ],
      "text/plain": [
       "               p1        p2\n",
       "0       -8.209121  1.191466\n",
       "1       -8.157545  1.263907\n",
       "2       -7.801053  1.045209\n",
       "3       -4.536742 -1.083573\n",
       "4       -2.677393 -2.204710\n",
       "...           ...       ...\n",
       "3553515 -7.194545  0.674105\n",
       "3553516 -8.369659  1.406269\n",
       "3553517 -8.282999  1.354072\n",
       "3553518 -8.363089  1.402528\n",
       "3553519 -8.363641  1.400249\n",
       "\n",
       "[3553520 rows x 2 columns]"
      ]
     },
     "execution_count": 175,
     "metadata": {},
     "output_type": "execute_result"
    }
   ],
   "source": [
    "new_x=np.reshape(X,(3553520,180))\n",
    "x = StandardScaler().fit_transform(new_x)\n",
    "pca = PCA(n_components=2)\n",
    "pC = pca.fit_transform(x)\n",
    "principalDf = pd.DataFrame(data = principalComponents\n",
    "             , columns = ['p1', 'p2'])\n",
    "principalDf"
   ]
  },
  {
   "cell_type": "code",
   "execution_count": 176,
   "metadata": {},
   "outputs": [],
   "source": [
    "pC.shape=(44419,80,2)"
   ]
  },
  {
   "cell_type": "code",
   "execution_count": 186,
   "metadata": {},
   "outputs": [],
   "source": [
    "x_train_k, x_test_k, y_train_k, y_test_k = train_test_split(pC, y_f, random_state=42, test_size=0.1)"
   ]
  },
  {
   "cell_type": "code",
   "execution_count": 178,
   "metadata": {},
   "outputs": [
    {
     "data": {
      "text/plain": [
       "(39977, 80, 2)"
      ]
     },
     "execution_count": 178,
     "metadata": {},
     "output_type": "execute_result"
    }
   ],
   "source": [
    "x_train.shape"
   ]
  },
  {
   "cell_type": "code",
   "execution_count": 179,
   "metadata": {},
   "outputs": [
    {
     "data": {
      "text/plain": [
       "(4442, 80, 2)"
      ]
     },
     "execution_count": 179,
     "metadata": {},
     "output_type": "execute_result"
    }
   ],
   "source": [
    "x_test_k.shape"
   ]
  },
  {
   "cell_type": "code",
   "execution_count": 180,
   "metadata": {},
   "outputs": [
    {
     "data": {
      "text/plain": [
       "KNeighborsClassifier(algorithm='auto', leaf_size=30, metric='minkowski',\n",
       "                     metric_params=None, n_jobs=None, n_neighbors=7, p=2,\n",
       "                     weights='uniform')"
      ]
     },
     "execution_count": 180,
     "metadata": {},
     "output_type": "execute_result"
    }
   ],
   "source": [
    "x_train_k.shape=(39977,160)\n",
    "x_test_k.shape=(4442,160)\n",
    "classifier = KNeighborsClassifier(n_neighbors=7)\n",
    "classifier.fit(x_train_k, y_train_k)"
   ]
  },
  {
   "cell_type": "code",
   "execution_count": 181,
   "metadata": {},
   "outputs": [
    {
     "name": "stdout",
     "output_type": "stream",
     "text": [
      "              precision    recall  f1-score   support\n",
      "\n",
      "           0       0.95      0.92      0.94      1104\n",
      "           1       0.98      0.98      0.98      2109\n",
      "           2       0.97      0.97      0.97       968\n",
      "           3       1.00      0.09      0.17        11\n",
      "           4       0.00      0.00      0.00         0\n",
      "           5       0.91      0.88      0.89       249\n",
      "           6       0.00      0.00      0.00         1\n",
      "\n",
      "   micro avg       0.96      0.96      0.96      4442\n",
      "   macro avg       0.69      0.55      0.56      4442\n",
      "weighted avg       0.96      0.96      0.96      4442\n",
      " samples avg       0.96      0.96      0.96      4442\n",
      "\n"
     ]
    },
    {
     "name": "stderr",
     "output_type": "stream",
     "text": [
      "/anaconda3/lib/python3.6/site-packages/sklearn/metrics/classification.py:1437: UndefinedMetricWarning: Precision and F-score are ill-defined and being set to 0.0 in labels with no predicted samples.\n",
      "  'precision', 'predicted', average, warn_for)\n",
      "/anaconda3/lib/python3.6/site-packages/sklearn/metrics/classification.py:1439: UndefinedMetricWarning: Recall and F-score are ill-defined and being set to 0.0 in labels with no true samples.\n",
      "  'recall', 'true', average, warn_for)\n",
      "/anaconda3/lib/python3.6/site-packages/sklearn/metrics/classification.py:1437: UndefinedMetricWarning: Precision and F-score are ill-defined and being set to 0.0 in samples with no predicted labels.\n",
      "  'precision', 'predicted', average, warn_for)\n"
     ]
    }
   ],
   "source": [
    "y_pred = classifier.predict(x_test_k)\n",
    "\n",
    "#print(confusion_matrix(y_test_k, y_pred))\n",
    "print(classification_report(y_test_k, y_pred))\n",
    "#print(accuracy(y_test_k, y_pred))"
   ]
  },
  {
   "cell_type": "code",
   "execution_count": 182,
   "metadata": {},
   "outputs": [
    {
     "name": "stdout",
     "output_type": "stream",
     "text": [
      "              precision    recall  f1-score   support\n",
      "\n",
      "           0       0.30      0.57      0.39      1104\n",
      "           1       0.13      0.07      0.09      2109\n",
      "           2       0.71      0.80      0.75       968\n",
      "           3       0.00      0.91      0.01        11\n",
      "           4       0.00      0.00      0.00         0\n",
      "           5       0.08      0.63      0.14       249\n",
      "           6       0.00      0.00      0.00         1\n",
      "\n",
      "   micro avg       0.12      0.39      0.19      4442\n",
      "   macro avg       0.17      0.43      0.20      4442\n",
      "weighted avg       0.29      0.39      0.31      4442\n",
      " samples avg       0.11      0.39      0.18      4442\n",
      "\n"
     ]
    },
    {
     "name": "stderr",
     "output_type": "stream",
     "text": [
      "/anaconda3/lib/python3.6/site-packages/sklearn/metrics/classification.py:1439: UndefinedMetricWarning: Recall and F-score are ill-defined and being set to 0.0 in labels with no true samples.\n",
      "  'recall', 'true', average, warn_for)\n",
      "/anaconda3/lib/python3.6/site-packages/sklearn/metrics/classification.py:1437: UndefinedMetricWarning: Precision and F-score are ill-defined and being set to 0.0 in samples with no predicted labels.\n",
      "  'precision', 'predicted', average, warn_for)\n"
     ]
    }
   ],
   "source": [
    "clf = MLPClassifier(activation='relu', alpha=1e-05, batch_size='auto',\n",
    "              beta_1=0.9, beta_2=0.999, early_stopping=False,\n",
    "              epsilon=1e-08, hidden_layer_sizes=(5, 2),\n",
    "              learning_rate='constant', learning_rate_init=0.001,\n",
    "              max_iter=200, momentum=0.9, n_iter_no_change=10,\n",
    "              nesterovs_momentum=True, power_t=0.5, random_state=1,\n",
    "              shuffle=True, solver='lbfgs', tol=0.0001,\n",
    "              validation_fraction=0.1, verbose=False, warm_start=False)\n",
    "\n",
    "clf.fit(x_train_k, y_train_k) \n",
    "y_pred_ann = clf.predict(x_test_k)\n",
    "\n",
    "\n",
    "print(classification_report(y_test_k, y_pred_ann))"
   ]
  },
  {
   "cell_type": "code",
   "execution_count": 202,
   "metadata": {},
   "outputs": [
    {
     "name": "stderr",
     "output_type": "stream",
     "text": [
      "/anaconda3/lib/python3.6/site-packages/sklearn/metrics/classification.py:1437: UndefinedMetricWarning: Precision and F-score are ill-defined and being set to 0.0 in labels with no predicted samples.\n",
      "  'precision', 'predicted', average, warn_for)\n",
      "/anaconda3/lib/python3.6/site-packages/sklearn/metrics/classification.py:1439: UndefinedMetricWarning: Recall and F-score are ill-defined and being set to 0.0 in labels with no true samples.\n",
      "  'recall', 'true', average, warn_for)\n",
      "/anaconda3/lib/python3.6/site-packages/sklearn/metrics/classification.py:1437: UndefinedMetricWarning: Precision and F-score are ill-defined and being set to 0.0 in samples with no predicted labels.\n",
      "  'precision', 'predicted', average, warn_for)\n"
     ]
    },
    {
     "name": "stdout",
     "output_type": "stream",
     "text": [
      "              precision    recall  f1-score   support\n",
      "\n",
      "           0       0.96      0.93      0.94      1104\n",
      "           1       0.98      0.98      0.98      2109\n",
      "           2       0.97      0.98      0.97       968\n",
      "           3       0.00      0.00      0.00        11\n",
      "           4       0.00      0.00      0.00         0\n",
      "           5       0.92      0.88      0.90       249\n",
      "           6       0.00      0.00      0.00         1\n",
      "\n",
      "   micro avg       0.97      0.96      0.96      4442\n",
      "   macro avg       0.55      0.54      0.54      4442\n",
      "weighted avg       0.96      0.96      0.96      4442\n",
      " samples avg       0.96      0.96      0.96      4442\n",
      "\n",
      "              precision    recall  f1-score   support\n",
      "\n",
      "           0       0.25      1.00      0.40      1104\n",
      "           1       0.94      0.12      0.21      2109\n",
      "           2       0.23      1.00      0.37       968\n",
      "           3       0.00      0.00      0.00        11\n",
      "           4       0.00      0.00      0.00         0\n",
      "           5       0.06      1.00      0.11       249\n",
      "           6       0.00      1.00      0.00         1\n",
      "\n",
      "   micro avg       0.14      0.58      0.23      4442\n",
      "   macro avg       0.21      0.59      0.16      4442\n",
      "weighted avg       0.56      0.58      0.29      4442\n",
      " samples avg       0.14      0.58      0.23      4442\n",
      "\n"
     ]
    },
    {
     "name": "stderr",
     "output_type": "stream",
     "text": [
      "/anaconda3/lib/python3.6/site-packages/sklearn/metrics/classification.py:1437: UndefinedMetricWarning: Precision and F-score are ill-defined and being set to 0.0 in labels with no predicted samples.\n",
      "  'precision', 'predicted', average, warn_for)\n",
      "/anaconda3/lib/python3.6/site-packages/sklearn/metrics/classification.py:1439: UndefinedMetricWarning: Recall and F-score are ill-defined and being set to 0.0 in labels with no true samples.\n",
      "  'recall', 'true', average, warn_for)\n"
     ]
    }
   ],
   "source": [
    "pca3 = PCA(n_components=3)\n",
    "#x = StandardScaler().fit_transform(new_x)\n",
    "x.shape=(3553520,180)\n",
    "pC3 = pca3.fit_transform(x)\n",
    "pC3.shape=(44419,80,3)\n",
    "x_train_k3, x_test_k3, y_train_k3, y_test_k3 = train_test_split(pC3, y_f, random_state=42, test_size=0.1)\n",
    "x_train_k3.shape=(39977,240)\n",
    "x_test_k3.shape=(4442,240)\n",
    "\n",
    "\n",
    "#KNN\n",
    "classifier.fit(x_train_k3, y_train_k3)\n",
    "y_pred3 = classifier.predict(x_test_k3)\n",
    "print(classification_report(y_test_k3, y_pred3))\n",
    "\n",
    "#ANN\n",
    "clf3 = MLPClassifier(activation='relu', alpha=1e-05, batch_size='auto',\n",
    "              beta_1=0.9, beta_2=0.999, early_stopping=False,\n",
    "              epsilon=1e-08, hidden_layer_sizes=(5, 2),\n",
    "              learning_rate='constant', learning_rate_init=0.001,\n",
    "              max_iter=200, momentum=0.9, n_iter_no_change=10,\n",
    "              nesterovs_momentum=True, power_t=0.5, random_state=1,\n",
    "              shuffle=True, solver='lbfgs', tol=0.0001,\n",
    "              validation_fraction=0.1, verbose=False, warm_start=False)\n",
    "\n",
    "clf.fit(x_train_k3, y_train_k3) \n",
    "y_pred_ann3 = clf.predict(x_test_k3)\n",
    "print(classification_report(y_test_k3, y_pred_ann3))\n"
   ]
  },
  {
   "cell_type": "code",
   "execution_count": null,
   "metadata": {},
   "outputs": [],
   "source": [
    "pca4 = PCA(n_components=4)\n",
    "#x = StandardScaler().fit_transform(new_x)\n",
    "x.shape=(3553520,180)\n",
    "pC4 = pca4.fit_transform(x)\n",
    "pC4.shape=(44419,80,4)\n",
    "x_train_k4, x_test_k4, y_train_k4, y_test_k4 = train_test_split(pC4, y_f, random_state=42, test_size=0.1)\n",
    "x_train_k4.shape=(39977,320)\n",
    "x_test_k4.shape=(4442,320)\n",
    "\n",
    "\n",
    "#KNN\n",
    "classifier.fit(x_train_k4, y_train_k4)\n",
    "y_pred4 = classifier.predict(x_test_k4)\n",
    "print(classification_report(y_test_k4, y_pred4))\n",
    "\n",
    "#ANN\n",
    "clf.fit(x_train_k4, y_train_k4) \n",
    "y_pred_ann5 = clf.predict(x_test_k4)\n",
    "print(classification_report(y_test_k5, y_pred_ann4))\n"
   ]
  },
  {
   "cell_type": "code",
   "execution_count": 188,
   "metadata": {},
   "outputs": [
    {
     "data": {
      "text/plain": [
       "(39977, 80, 3)"
      ]
     },
     "execution_count": 188,
     "metadata": {},
     "output_type": "execute_result"
    }
   ],
   "source": [
    "pca5 = PCA(n_components=5)\n",
    "#x = StandardScaler().fit_transform(new_x)\n",
    "x.shape=(3553520,180)\n",
    "pC5 = pca5.fit_transform(x)\n",
    "pC5.shape=(44419,80,5)\n",
    "x_train_k5, x_test_k5, y_train_k5, y_test_k5 = train_test_split(pC5, y_f, random_state=42, test_size=0.1)\n",
    "x_train_k5.shape=(39977,400)\n",
    "x_test_k5.shape=(4442,400)\n",
    "\n",
    "\n",
    "#KNN\n",
    "classifier.fit(x_train_k5, y_train_k5)\n",
    "y_pred5 = classifier.predict(x_test_k5)\n",
    "print(classification_report(y_test_k5, y_pred5))\n",
    "\n",
    "#ANN\n",
    "\n",
    "\n",
    "clf.fit(x_train_k5, y_train_k5) \n",
    "y_pred_ann5 = clf.predict(x_test_k5)\n",
    "print(classification_report(y_test_k5, y_pred_ann5))"
   ]
  }
 ],
 "metadata": {
  "kernelspec": {
   "display_name": "Python 3",
   "language": "python",
   "name": "python3"
  },
  "language_info": {
   "codemirror_mode": {
    "name": "ipython",
    "version": 3
   },
   "file_extension": ".py",
   "mimetype": "text/x-python",
   "name": "python",
   "nbconvert_exporter": "python",
   "pygments_lexer": "ipython3",
   "version": "3.6.9"
  }
 },
 "nbformat": 4,
 "nbformat_minor": 2
}
